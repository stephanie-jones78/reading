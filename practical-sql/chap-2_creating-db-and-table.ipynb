{
 "cells": [
  {
   "cell_type": "markdown",
   "id": "45a6b5de",
   "metadata": {},
   "source": [
    "# Chapter 2 | Creating Your First Database and Table"
   ]
  },
  {
   "cell_type": "markdown",
   "id": "9b278dec",
   "metadata": {},
   "source": [
    "## SQL | Tool for extracting and a language for organizing relationships\n",
    "SQL is not only a tool for **extracting knowledge from data--> querying**, it is also **a language for organizing relationships** by defining the structures that hold the data. \n",
    ">Primary among those structures is the database **table**"
   ]
  },
  {
   "cell_type": "markdown",
   "id": "acb16caa",
   "metadata": {},
   "source": [
    "## Why Not Just House Alll the Data in One Massive Table?\n",
    "The preferred method of building databases is to organize the data into separate tables for each **main entity** that the database manages. This is done in order to **reduce redundancy in the data** and preserve space in the database. "
   ]
  },
  {
   "cell_type": "markdown",
   "id": "b55bdb19",
   "metadata": {},
   "source": [
    "## First Looks\n",
    "Things to look for when working with a new database:\n",
    "- number of tables\n",
    "- table names\n",
    "- table structures\n",
    "    - no rows\n",
    "    - no columns\n",
    "    - column datatypes\n",
    "    - primary and secondary keys\n",
    "- possible related tables"
   ]
  },
  {
   "cell_type": "markdown",
   "id": "108746c7",
   "metadata": {},
   "source": [
    "## Code\n",
    "The code for this chapter is in the folder (same notebook name) `.sql` file. The code is copied from the author's book resources github, found [**here**](https://github.com/anthonydb/practical-sql-2/blob/5c3c52c3f23a62fa8e918873ef66cbb38344f70d/Chapter_02/Chapter_02.sql). You can open the downloaded file (Toolbar Panel---> Open File icon--> `.sql` code file) in pgAdmin and run listings individually by highlighting a listing and clicking `Execute/Refresh`.\n",
    "###### For these exercises I will be manually entering the code for practice.\n",
    "\n",
    ">`CREATE DATABASE analysis`\n",
    "\n",
    "*Creates a new database on the server.*\n",
    ">`CREATE TABLE teachers(<br>\n",
    "    id bigserial<br>\n",
    "    first_name varchar(25)\n",
    "    last_name varchar(50)\n",
    "    school varchar(50)\n",
    "    hire_date date\n",
    "    salary numeric\n",
    "  );`\n",
    "\n",
    "*Creates a new table with the following constraints:*\n",
    "- *bigserial: special integer type that auto-increments every time you add a row to the table*\n",
    "- *varchar(n): sets max character limit of n*"
   ]
  },
  {
   "cell_type": "code",
   "execution_count": null,
   "id": "b58dc9ce",
   "metadata": {},
   "outputs": [],
   "source": []
  }
 ],
 "metadata": {
  "kernelspec": {
   "display_name": "Python 3",
   "language": "python",
   "name": "python3"
  },
  "language_info": {
   "codemirror_mode": {
    "name": "ipython",
    "version": 3
   },
   "file_extension": ".py",
   "mimetype": "text/x-python",
   "name": "python",
   "nbconvert_exporter": "python",
   "pygments_lexer": "ipython3",
   "version": "3.8.8"
  }
 },
 "nbformat": 4,
 "nbformat_minor": 5
}
