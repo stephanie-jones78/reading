{
 "cells": [
  {
   "cell_type": "markdown",
   "id": "52e13dbb",
   "metadata": {},
   "source": [
    "# Chapter 2 | Creating Your First Database and Table"
   ]
  },
  {
   "cell_type": "markdown",
   "id": "b3630f7d",
   "metadata": {},
   "source": [
    "## SQL | Tool for extracting and a language for organizing relationships\n",
    "SQL is not only a tool for **extracting knowledge from data--> querying**, it is also **a language for organizing relationships** by defining the structures that hold the data. \n",
    ">Primary among those structures is the database **table**"
   ]
  },
  {
   "cell_type": "markdown",
   "id": "7c43266b",
   "metadata": {},
   "source": [
    "## Why Not Just House Alll the Data in One Massive Table?\n",
    "The preferred method of building databases is to organize the data into separate tables for each **main entity** that the database manages. This is done in order to **reduce redundancy in the data** and preserve space in the database. "
   ]
  },
  {
   "cell_type": "markdown",
   "id": "313b0936",
   "metadata": {},
   "source": [
    "## First Looks\n",
    "Things to look for when working with a new database:\n",
    "- number of tables\n",
    "- table names\n",
    "- table structures\n",
    "    - no rows\n",
    "    - no columns\n",
    "    - column datatypes\n",
    "    - primary and secondary keys\n",
    "- possible related tables"
   ]
  },
  {
   "cell_type": "code",
   "execution_count": null,
   "id": "7b8a5d1c",
   "metadata": {},
   "outputs": [],
   "source": []
  }
 ],
 "metadata": {
  "kernelspec": {
   "display_name": "Python 3",
   "language": "python",
   "name": "python3"
  },
  "language_info": {
   "codemirror_mode": {
    "name": "ipython",
    "version": 3
   },
   "file_extension": ".py",
   "mimetype": "text/x-python",
   "name": "python",
   "nbconvert_exporter": "python",
   "pygments_lexer": "ipython3",
   "version": "3.8.8"
  }
 },
 "nbformat": 4,
 "nbformat_minor": 5
}
